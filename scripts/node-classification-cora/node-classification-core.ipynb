{
 "cells": [
  {
   "cell_type": "code",
   "execution_count": 31,
   "metadata": {},
   "outputs": [
    {
     "data": {
      "text/plain": [
       "False"
      ]
     },
     "execution_count": 31,
     "metadata": {},
     "output_type": "execute_result"
    }
   ],
   "source": [
    "import torch\n",
    "import torch.nn as nn\n",
    "import torch.nn.functional as F\n",
    "import torch.optim as optim\n",
    "from torch_geometric.datasets import Planetoid\n",
    "from torch.nn import Linear, ReLU, LeakyReLU, ELU\n",
    "from torch_geometric.nn import Sequential, GCNConv, GATConv\n",
    "import numpy as np\n",
    "from sklearn.naive_bayes import MultinomialNB, BernoulliNB\n",
    "from sklearn.linear_model import LogisticRegression\n",
    "from sklearn.neural_network import MLPClassifier\n",
    "from matplotlib import pyplot as plt\n",
    "from sklearn.model_selection import train_test_split\n",
    "from sklearn.metrics import accuracy_score\n",
    "from sklearn.model_selection import cross_val_score, KFold, StratifiedKFold\n",
    "import seaborn as sns\n",
    "import pandas as pd\n",
    "from typing import Union\n",
    "from tqdm import tqdm\n",
    "import os\n",
    "\n",
    "torch.cuda.is_available()"
   ]
  },
  {
   "cell_type": "code",
   "execution_count": 5,
   "metadata": {},
   "outputs": [],
   "source": [
    "dataset = Planetoid(root=\"../../data/cora\",name= \"Cora\")"
   ]
  },
  {
   "cell_type": "markdown",
   "metadata": {},
   "source": [
    "# Creating a baseline"
   ]
  },
  {
   "cell_type": "code",
   "execution_count": 6,
   "metadata": {},
   "outputs": [
    {
     "name": "stderr",
     "output_type": "stream",
     "text": [
      "/home/rick/Documents/ai-codex-public-code/.venv/lib/python3.12/site-packages/torch_geometric/data/in_memory_dataset.py:300: UserWarning: It is not recommended to directly access the internal storage format `data` of an 'InMemoryDataset'. If you are absolutely certain what you are doing, access the internal storage via `InMemoryDataset._data` instead to suppress this warning. Alternatively, you can access stacked individual attributes of every graph via `dataset.{attr_name}`.\n",
      "  warnings.warn(msg)\n"
     ]
    }
   ],
   "source": [
    "# Get the X and y data\n",
    "X_data = dataset.data.x\n",
    "y_data = dataset.data.y"
   ]
  },
  {
   "cell_type": "code",
   "execution_count": 7,
   "metadata": {},
   "outputs": [
    {
     "name": "stdout",
     "output_type": "stream",
     "text": [
      "Class: 0 - Samples: 351\n",
      "Class: 1 - Samples: 217\n",
      "Class: 2 - Samples: 418\n",
      "Class: 3 - Samples: 818\n",
      "Class: 4 - Samples: 426\n",
      "Class: 5 - Samples: 298\n",
      "Class: 6 - Samples: 180\n"
     ]
    }
   ],
   "source": [
    "# Count the number of samples per class\n",
    "unique, counts = np.unique(y_data, return_counts=True)\n",
    "for i in range(len(unique)):\n",
    "    print(\"Class: {} - Samples: {}\".format(unique[i], counts[i]))"
   ]
  },
  {
   "cell_type": "markdown",
   "metadata": {},
   "source": [
    "## Train a baseline model"
   ]
  },
  {
   "cell_type": "code",
   "execution_count": 8,
   "metadata": {},
   "outputs": [],
   "source": [
    "X_train, X_test, y_train, y_test = train_test_split(X_data, y_data, \n",
    "                                                    test_size=0.25, \n",
    "                                                    random_state=42)"
   ]
  },
  {
   "cell_type": "code",
   "execution_count": 9,
   "metadata": {},
   "outputs": [
    {
     "data": {
      "text/plain": [
       "0.757754800590842"
      ]
     },
     "execution_count": 9,
     "metadata": {},
     "output_type": "execute_result"
    }
   ],
   "source": [
    "## Train the model\n",
    "model = LogisticRegression()\n",
    "model.fit(X_train, y_train)\n",
    "\n",
    "## Test the model\n",
    "y_pred = model.predict(X_test)\n",
    "accuracy_score(y_test, y_pred)"
   ]
  },
  {
   "cell_type": "markdown",
   "metadata": {},
   "source": [
    "## Train the models"
   ]
  },
  {
   "cell_type": "code",
   "execution_count": 10,
   "metadata": {},
   "outputs": [
    {
     "name": "stdout",
     "output_type": "stream",
     "text": [
      "current model: MultinomialNB\n",
      "current model: BernoulliNB\n",
      "current model: LogisticRegression\n",
      "current model: Deep FF\n",
      "current model: Shallow FF\n"
     ]
    }
   ],
   "source": [
    "## Compare them using 10-fold cross-validation\n",
    "models = [\n",
    "{\n",
    "    \"model\": MultinomialNB(),\n",
    "    \"name\": \"MultinomialNB\"\n",
    "}, \n",
    "{\n",
    "    \"model\": BernoulliNB(),\n",
    "    \"name\": \"BernoulliNB\"\n",
    "}, \n",
    "{\n",
    "    \"model\": LogisticRegression(),\n",
    "    \"name\": \"LogisticRegression\"\n",
    "},\n",
    "{\n",
    "    \"model\": MLPClassifier(hidden_layer_sizes=(64, 32), activation=\"relu\", solver=\"adam\"),\n",
    "    \"name\": \"Deep FF\"\n",
    "},\n",
    "{\n",
    "    \"model\": MLPClassifier(hidden_layer_sizes=(64, ), activation=\"relu\", solver=\"adam\"),\n",
    "    \"name\": \"Shallow FF\"\n",
    "}]\n",
    "\n",
    "# Format: [{model_name, str, accuracy: float}]\n",
    "results = []\n",
    "\n",
    "# Cross validate\n",
    "for model in models:\n",
    "    # The current model\n",
    "    print(f'current model: {model[\"name\"]}')\n",
    "    # perform cross-validation\n",
    "    scores = cross_val_score(\n",
    "        model[\"model\"], \n",
    "        X_data, y_data, \n",
    "        cv=StratifiedKFold(10, shuffle=True, random_state=42), \n",
    "        n_jobs=-1,\n",
    "        scoring=\"accuracy\",\n",
    "        )\n",
    "    # Append the results\n",
    "    for score in scores:\n",
    "        results.append({\n",
    "            \"model\": model[\"name\"],\n",
    "            \"accuracy\": score\n",
    "        })\n"
   ]
  },
  {
   "cell_type": "code",
   "execution_count": 11,
   "metadata": {},
   "outputs": [
    {
     "data": {
      "text/plain": [
       "Text(0.5, 1.0, 'Comparison of different models')"
      ]
     },
     "execution_count": 11,
     "metadata": {},
     "output_type": "execute_result"
    },
    {
     "data": {
      "image/png": "[encoded data removed]",
      "text/plain": [
       "<Figure size 1000x500 with 1 Axes>"
      ]
     },
     "metadata": {},
     "output_type": "display_data"
    }
   ],
   "source": [
    "# Plot using seaborn\n",
    "df = pd.DataFrame(results)\n",
    "plt.figure(figsize=(10, 5))\n",
    "sns.boxplot(x=\"model\", y=\"accuracy\", data=df)\n",
    "plt.title(\"Comparison of different models\")"
   ]
  },
  {
   "cell_type": "markdown",
   "metadata": {},
   "source": [
    "## Train GNN"
   ]
  },
  {
   "cell_type": "code",
   "execution_count": 12,
   "metadata": {},
   "outputs": [
    {
     "data": {
      "text/plain": [
       "device(type='cpu')"
      ]
     },
     "execution_count": 12,
     "metadata": {},
     "output_type": "execute_result"
    }
   ],
   "source": [
    "device = torch.device('cuda' if torch.cuda.is_available() else 'cpu')\n",
    "device"
   ]
  },
  {
   "cell_type": "code",
   "execution_count": 13,
   "metadata": {},
   "outputs": [
    {
     "name": "stderr",
     "output_type": "stream",
     "text": [
      "/home/rick/Documents/ai-codex-public-code/.venv/lib/python3.12/site-packages/torch_geometric/data/in_memory_dataset.py:300: UserWarning: It is not recommended to directly access the internal storage format `data` of an 'InMemoryDataset'. If you are absolutely certain what you are doing, access the internal storage via `InMemoryDataset._data` instead to suppress this warning. Alternatively, you can access stacked individual attributes of every graph via `dataset.{attr_name}`.\n",
      "  warnings.warn(msg)\n",
      "/home/rick/Documents/ai-codex-public-code/.venv/lib/python3.12/site-packages/torch_geometric/data/in_memory_dataset.py:300: UserWarning: It is not recommended to directly access the internal storage format `data` of an 'InMemoryDataset'. If you are absolutely certain what you are doing, access the internal storage via `InMemoryDataset._data` instead to suppress this warning. Alternatively, you can access stacked individual attributes of every graph via `dataset.{attr_name}`.\n",
      "  warnings.warn(msg)\n",
      "/home/rick/Documents/ai-codex-public-code/.venv/lib/python3.12/site-packages/torch_geometric/data/in_memory_dataset.py:300: UserWarning: It is not recommended to directly access the internal storage format `data` of an 'InMemoryDataset'. If you are absolutely certain what you are doing, access the internal storage via `InMemoryDataset._data` instead to suppress this warning. Alternatively, you can access stacked individual attributes of every graph via `dataset.{attr_name}`.\n",
      "  warnings.warn(msg)\n"
     ]
    }
   ],
   "source": [
    "def shuffle_data(dataset, train_size=140, val_size=500):\n",
    "    train_mask, test_mask = train_test_split(range(2708), train_size=train_size + val_size, stratify=dataset.data.y.numpy())\n",
    "    train_mask, val_mask = train_test_split(train_mask, train_size=train_size, stratify=dataset.data.y.numpy()[train_mask])\n",
    "\n",
    "    dataset.data.train_mask = torch.zeros(dataset.data.num_nodes, dtype=torch.uint8)\n",
    "    dataset.data.train_mask[train_mask] = 1\n",
    "\n",
    "    dataset.data.val_mask = torch.zeros(dataset.data.num_nodes, dtype=torch.uint8)\n",
    "    dataset.data.val_mask[val_mask] = 1\n",
    "\n",
    "    dataset.data.test_mask = torch.zeros(dataset.data.num_nodes, dtype=torch.uint8)\n",
    "    dataset.data.test_mask[test_mask] = 1\n",
    "\n",
    "    dataset.data.x = dataset.data.x.to(device)\n",
    "    dataset.data.y = dataset.data.y.to(device)\n",
    "    dataset.data.edge_index = dataset.data.edge_index.to(device)\n",
    "    dataset.data.train_mask = dataset.data.train_mask.to(device)\n",
    "    dataset.data.val_mask = dataset.data.val_mask.to(device)\n",
    "    dataset.data.test_mask = dataset.data.test_mask.to(device)\n",
    "\n",
    "shuffle_data(dataset, train_size=140, val_size=500)"
   ]
  },
  {
   "cell_type": "code",
   "execution_count": 23,
   "metadata": {},
   "outputs": [],
   "source": [
    "class GAT(nn.Module):\n",
    "    def __init__(self, input_dim, output_dim, hidden_dim=8, heads=8, dropout=0.3, activation=ELU):\n",
    "        super(GAT, self).__init__()\n",
    "        if type(dropout) == float:\n",
    "            dropout = [dropout]*2\n",
    "        self.conv1 = GATConv(input_dim, hidden_dim, heads=heads, dropout=dropout[0])\n",
    "        self.conv2 = GATConv(hidden_dim*heads, output_dim, concat=False, heads=1, dropout=dropout[1])\n",
    "        self.activation = activation(inplace=True)\n",
    "\n",
    "    def forward(self, x, edge_index):\n",
    "        x = self.conv1(x, edge_index)\n",
    "        x = self.activation(x)\n",
    "        x, e = self.conv2(x, edge_index, return_attention_weights=True)\n",
    "        return x, e\n",
    "    \n",
    "def train_gnn(model, dataset, criterion, optimizer, epochs=100, return_best_weights=True, patients:Union[int, None]=5, model_weights_path='../../weights/cora/best_model_gnn.pt'):\n",
    "\n",
    "    # Create folder if doesn't exist\n",
    "    os.makedirs(os.path.dirname(model_weights_path), exist_ok=True)\n",
    "\n",
    "    running_losses = []\n",
    "    val_losses = []\n",
    "    val_accuracies = []\n",
    "\n",
    "    best_val_loss = float('inf')\n",
    "    best_epoch = 0\n",
    "\n",
    "    # Train model\n",
    "    for epoch in tqdm(range(epochs)):\n",
    "        # Training step\n",
    "        # Put the model in training mode\n",
    "        model.train()\n",
    "        # Reset the gradients\n",
    "        optimizer.zero_grad()\n",
    "        # Forward pass\n",
    "        out, _ = model(dataset.data.x, dataset.data.edge_index)\n",
    "        # Only calculate the loss on the training nodes\n",
    "        loss = criterion(out[dataset.data.train_mask], dataset.data.y[dataset.data.train_mask])\n",
    "        # Backward pass\n",
    "        loss.backward()\n",
    "        # Update the weights\n",
    "        optimizer.step()\n",
    "\n",
    "        running_loss = loss.item()\n",
    "        running_losses.append(running_loss)\n",
    "\n",
    "        # Validation step\n",
    "        model.eval()\n",
    "\n",
    "        with torch.no_grad():\n",
    "            out, _ = model(dataset.data.x, dataset.data.edge_index)\n",
    "            val_loss = criterion(out[dataset.data.val_mask], dataset.data.y[dataset.data.val_mask])\n",
    "            pred = out.argmax(dim=1)  # Use the class with highest probability.\n",
    "            correct = pred[dataset.data.val_mask] == dataset.data.y[dataset.data.val_mask]  # Check against ground-truth labels.\n",
    "            val_accuracy = int(correct.sum()) / int(dataset.data.val_mask.sum())  # Derive ratio of correct predictions.\n",
    "\n",
    "            val_losses.append(val_loss.detach().cpu().item())\n",
    "            val_accuracies.append(val_accuracy)\n",
    "\n",
    "        # Save model if validation loss has decreased\n",
    "        if val_loss < best_val_loss:\n",
    "            best_val_loss = val_loss\n",
    "            best_epoch = epoch\n",
    "            torch.save(model.state_dict(), model_weights_path)\n",
    "\n",
    "        # Stop if model stopped improving after patients\n",
    "        if patients != None and epoch - best_epoch > patients:\n",
    "            break\n",
    "\n",
    "    if return_best_weights:\n",
    "        model.load_state_dict(torch.load(model_weights_path, weights_only=True))\n",
    "\n",
    "    return model, running_losses, val_losses, val_accuracies\n",
    "\n",
    "def test_gnn(model, dataset, criterion):\n",
    "    model.eval()\n",
    "    # test model\n",
    "    with torch.no_grad():\n",
    "        out, _ = model(dataset.data.x, dataset.data.edge_index)\n",
    "        test_loss = criterion(out[dataset.data.test_mask], dataset.data.y[dataset.data.test_mask])\n",
    "        pred = out.argmax(dim=1)  # Use the class with highest probability.\n",
    "        correct = pred[dataset.data.test_mask] == dataset.data.y[dataset.data.test_mask]  # Check against ground-truth labels.\n",
    "        test_accuracy = int(correct.sum()) / int(dataset.data.test_mask.sum())  # Derive ratio of correct predictions.\n",
    "\n",
    "    return test_loss.detach().cpu().item(), test_accuracy"
   ]
  },
  {
   "cell_type": "code",
   "execution_count": 24,
   "metadata": {},
   "outputs": [],
   "source": [
    "\n",
    "\n",
    "class FF(nn.Module):\n",
    "    def __init__(self, input_dim, output_dim, hidden_dim=32, activation=ReLU, dropout=0.3):\n",
    "        super(FF, self).__init__()\n",
    "        if type(dropout) == float:\n",
    "            dropout = [dropout]*2\n",
    "        self.fc1 = Linear(input_dim, hidden_dim)\n",
    "        self.fc2 = Linear(hidden_dim, output_dim)\n",
    "        self.activation = activation(inplace=True)\n",
    "        self.dropout = dropout\n",
    "\n",
    "    def forward(self, x):\n",
    "        x = self.fc1(x)\n",
    "        # add dropout\n",
    "        x = F.dropout(x, p=self.dropout[0], training=self.training)\n",
    "        x = self.activation(x)\n",
    "        x = self.fc2(x)\n",
    "        x = F.dropout(x, p=self.dropout[1], training=self.training)\n",
    "        return x\n",
    "\n",
    "def train_ff(model, dataset, criterion, optimizer, epochs=100, return_best_weights=True, patients:Union[int, None]=5, model_weights_path='../../weights/cora/best_model_gnn.pt'):\n",
    "\n",
    "    # Create folder if doesn't exist\n",
    "    os.makedirs(os.path.dirname(model_weights_path), exist_ok=True)\n",
    "\n",
    "    running_losses = []\n",
    "    val_losses = []\n",
    "    val_accuracies = []\n",
    "\n",
    "    best_val_loss = float('inf')\n",
    "    best_epoch = 0\n",
    "\n",
    "    # Train model\n",
    "    for epoch in tqdm(range(epochs)):\n",
    "        # Training step\n",
    "        # Put the model in training mode\n",
    "        model.train()\n",
    "        # Reset the gradients\n",
    "        optimizer.zero_grad()\n",
    "        # Forward pass \n",
    "        out = model(dataset.data.x[dataset.data.train_mask])\n",
    "        # Only calculate the loss on the training nodes\n",
    "        loss = criterion(out, dataset.data.y[dataset.data.train_mask])\n",
    "        # Backward pass\n",
    "        loss.backward()\n",
    "        # Update the weights\n",
    "        optimizer.step()\n",
    "\n",
    "        running_loss = loss.item()\n",
    "        running_losses.append(running_loss)\n",
    "\n",
    "        # Validation step\n",
    "        model.eval()\n",
    "\n",
    "        with torch.no_grad():\n",
    "            out = model(dataset.data.x[dataset.data.val_mask])\n",
    "            val_loss = criterion(out, dataset.data.y[dataset.data.val_mask])\n",
    "            pred = out.argmax(dim=1)  # Use the class with highest probability.\n",
    "            correct = pred== dataset.data.y[dataset.data.val_mask]  # Check against ground-truth labels.\n",
    "            val_accuracy = int(correct.sum()) / int(dataset.data.val_mask.sum())  # Derive ratio of correct predictions.\n",
    "\n",
    "            val_losses.append(val_loss.detach().cpu().item())\n",
    "            val_accuracies.append(val_accuracy)\n",
    "\n",
    "        # Save model if validation loss has decreased\n",
    "        if val_loss < best_val_loss:\n",
    "            best_val_loss = val_loss\n",
    "            best_epoch = epoch\n",
    "            torch.save(model.state_dict(), model_weights_path)\n",
    "\n",
    "        # Stop if model stopped improving after patients\n",
    "        if patients != None and epoch - best_epoch > patients:\n",
    "            break\n",
    "\n",
    "    if return_best_weights:\n",
    "        model.load_state_dict(torch.load(model_weights_path, weights_only=True))\n",
    "\n",
    "    return model, running_losses, val_losses, val_accuracies\n",
    "\n",
    "def test_ff(model, dataset, criterion):\n",
    "    model.eval()\n",
    "    # test model\n",
    "    with torch.no_grad():\n",
    "        out = model(dataset.data.x[dataset.data.test_mask])\n",
    "        test_loss = criterion(out, dataset.data.y[dataset.data.test_mask])\n",
    "        pred = out.argmax(dim=1)  # Use the class with highest probability.\n",
    "        correct = pred == dataset.data.y[dataset.data.test_mask]  # Check against ground-truth labels.\n",
    "        test_accuracy = int(correct.sum()) / int(dataset.data.test_mask.sum())  # Derive ratio of correct predictions.\n",
    "\n",
    "    return test_loss.detach().cpu().item(), test_accuracy"
   ]
  },
  {
   "cell_type": "markdown",
   "metadata": {},
   "source": [
    "### Train single GAT model on dataset"
   ]
  },
  {
   "cell_type": "code",
   "execution_count": 25,
   "metadata": {},
   "outputs": [
    {
     "name": "stderr",
     "output_type": "stream",
     "text": [
      "  0%|          | 0/1000 [00:00<?, ?it/s]/home/rick/Documents/ai-codex-public-code/.venv/lib/python3.12/site-packages/torch_geometric/data/in_memory_dataset.py:300: UserWarning: It is not recommended to directly access the internal storage format `data` of an 'InMemoryDataset'. If you are absolutely certain what you are doing, access the internal storage via `InMemoryDataset._data` instead to suppress this warning. Alternatively, you can access stacked individual attributes of every graph via `dataset.{attr_name}`.\n",
      "  warnings.warn(msg)\n",
      "/tmp/ipykernel_21178/339971205.py:38: UserWarning: indexing with dtype torch.uint8 is now deprecated, please use a dtype torch.bool instead. (Triggered internally at ../aten/src/ATen/native/IndexingUtils.h:27.)\n",
      "  loss = criterion(out[dataset.data.train_mask], dataset.data.y[dataset.data.train_mask])\n",
      "/home/rick/Documents/ai-codex-public-code/.venv/lib/python3.12/site-packages/torch/autograd/graph.py:825: UserWarning: indexing with dtype torch.uint8 is now deprecated, please use a dtype torch.bool instead. (Triggered internally at ../aten/src/ATen/native/IndexingUtils.h:27.)\n",
      "  return Variable._execution_engine.run_backward(  # Calls into the C++ engine to run the backward pass\n",
      "/tmp/ipykernel_21178/339971205.py:52: UserWarning: indexing with dtype torch.uint8 is now deprecated, please use a dtype torch.bool instead. (Triggered internally at ../aten/src/ATen/native/IndexingUtils.h:27.)\n",
      "  val_loss = criterion(out[dataset.data.val_mask], dataset.data.y[dataset.data.val_mask])\n",
      "/tmp/ipykernel_21178/339971205.py:54: UserWarning: indexing with dtype torch.uint8 is now deprecated, please use a dtype torch.bool instead. (Triggered internally at ../aten/src/ATen/native/IndexingUtils.h:27.)\n",
      "  correct = pred[dataset.data.val_mask] == dataset.data.y[dataset.data.val_mask]  # Check against ground-truth labels.\n",
      "  2%|▏         | 17/1000 [00:00<00:26, 37.67it/s]\n"
     ]
    }
   ],
   "source": [
    "\n",
    "gat = GAT(dataset.num_features, dataset.num_classes, \n",
    "          hidden_dim=16, heads=12, dropout=0.3).to(device)\n",
    "\n",
    "optimizer = optim.Adam(gat.parameters(), lr=0.005, weight_decay=5e-4)\n",
    "criterion = nn.CrossEntropyLoss()\n",
    "\n",
    "gat, running_losses, val_losses, val_accuracies = train_gnn(gat, dataset, criterion, optimizer, \n",
    "                                                            epochs=1000, \n",
    "                                                            return_best_weights=True, \n",
    "                                                            patients=5)"
   ]
  },
  {
   "cell_type": "code",
   "execution_count": 26,
   "metadata": {},
   "outputs": [
    {
     "name": "stdout",
     "output_type": "stream",
     "text": [
      "Min val_loss: 0.6420657634735107\n"
     ]
    },
    {
     "data": {
      "image/png": "[encoded data removed]",
      "text/plain": [
       "<Figure size 640x480 with 1 Axes>"
      ]
     },
     "metadata": {},
     "output_type": "display_data"
    },
    {
     "name": "stdout",
     "output_type": "stream",
     "text": [
      "Finished Training\n"
     ]
    }
   ],
   "source": [
    "# Plot the losses\n",
    "print(f\"Min val_loss: {min(val_losses)}\")\n",
    "plt.plot(running_losses, label='Training loss')\n",
    "plt.plot(val_losses, label='Validation loss')\n",
    "plt.legend()\n",
    "plt.show()\n",
    "print('Finished Training')"
   ]
  },
  {
   "cell_type": "code",
   "execution_count": 27,
   "metadata": {},
   "outputs": [
    {
     "name": "stdout",
     "output_type": "stream",
     "text": [
      "0.806\n"
     ]
    },
    {
     "data": {
      "image/png": "[encoded data removed]",
      "text/plain": [
       "<Figure size 640x480 with 1 Axes>"
      ]
     },
     "metadata": {},
     "output_type": "display_data"
    }
   ],
   "source": [
    "# Plot the accuracies\n",
    "plt.plot(val_accuracies, label='Validation accuracy')\n",
    "print(max(val_accuracies))\n",
    "plt.legend()\n",
    "plt.show()"
   ]
  },
  {
   "cell_type": "code",
   "execution_count": 29,
   "metadata": {},
   "outputs": [
    {
     "name": "stderr",
     "output_type": "stream",
     "text": [
      "/home/rick/Documents/ai-codex-public-code/.venv/lib/python3.12/site-packages/torch_geometric/data/in_memory_dataset.py:300: UserWarning: It is not recommended to directly access the internal storage format `data` of an 'InMemoryDataset'. If you are absolutely certain what you are doing, access the internal storage via `InMemoryDataset._data` instead to suppress this warning. Alternatively, you can access stacked individual attributes of every graph via `dataset.{attr_name}`.\n",
      "  warnings.warn(msg)\n",
      "/tmp/ipykernel_21178/339971205.py:80: UserWarning: indexing with dtype torch.uint8 is now deprecated, please use a dtype torch.bool instead. (Triggered internally at ../aten/src/ATen/native/IndexingUtils.h:27.)\n",
      "  test_loss = criterion(out[dataset.data.test_mask], dataset.data.y[dataset.data.test_mask])\n",
      "/tmp/ipykernel_21178/339971205.py:82: UserWarning: indexing with dtype torch.uint8 is now deprecated, please use a dtype torch.bool instead. (Triggered internally at ../aten/src/ATen/native/IndexingUtils.h:27.)\n",
      "  correct = pred[dataset.data.test_mask] == dataset.data.y[dataset.data.test_mask]  # Check against ground-truth labels.\n"
     ]
    },
    {
     "data": {
      "text/plain": [
       "(0.5957294702529907, 0.8051257253384912)"
      ]
     },
     "execution_count": 29,
     "metadata": {},
     "output_type": "execute_result"
    }
   ],
   "source": [
    "test_gnn(gat, dataset, criterion)"
   ]
  },
  {
   "cell_type": "markdown",
   "metadata": {},
   "source": [
    "### Train single FF on data"
   ]
  },
  {
   "cell_type": "code",
   "execution_count": 32,
   "metadata": {},
   "outputs": [
    {
     "name": "stderr",
     "output_type": "stream",
     "text": [
      "  0%|          | 0/1000 [00:00<?, ?it/s]/tmp/ipykernel_21178/2956529926.py:40: UserWarning: indexing with dtype torch.uint8 is now deprecated, please use a dtype torch.bool instead. (Triggered internally at ../aten/src/ATen/native/IndexingUtils.h:27.)\n",
      "  out = model(dataset.data.x[dataset.data.train_mask])\n",
      "/tmp/ipykernel_21178/2956529926.py:42: UserWarning: indexing with dtype torch.uint8 is now deprecated, please use a dtype torch.bool instead. (Triggered internally at ../aten/src/ATen/native/IndexingUtils.h:27.)\n",
      "  loss = criterion(out, dataset.data.y[dataset.data.train_mask])\n",
      "/tmp/ipykernel_21178/2956529926.py:55: UserWarning: indexing with dtype torch.uint8 is now deprecated, please use a dtype torch.bool instead. (Triggered internally at ../aten/src/ATen/native/IndexingUtils.h:27.)\n",
      "  out = model(dataset.data.x[dataset.data.val_mask])\n",
      "/tmp/ipykernel_21178/2956529926.py:56: UserWarning: indexing with dtype torch.uint8 is now deprecated, please use a dtype torch.bool instead. (Triggered internally at ../aten/src/ATen/native/IndexingUtils.h:27.)\n",
      "  val_loss = criterion(out, dataset.data.y[dataset.data.val_mask])\n",
      "/tmp/ipykernel_21178/2956529926.py:58: UserWarning: indexing with dtype torch.uint8 is now deprecated, please use a dtype torch.bool instead. (Triggered internally at ../aten/src/ATen/native/IndexingUtils.h:27.)\n",
      "  correct = pred== dataset.data.y[dataset.data.val_mask]  # Check against ground-truth labels.\n",
      "  4%|▍         | 38/1000 [00:00<00:02, 329.32it/s]\n"
     ]
    }
   ],
   "source": [
    "ff = FF(dataset.num_features, dataset.num_classes, \n",
    "          hidden_dim=64, dropout=0.3).to(device)\n",
    "\n",
    "optimizer = optim.Adam(ff.parameters(), lr=0.005, weight_decay=5e-4)\n",
    "criterion = nn.CrossEntropyLoss()\n",
    "\n",
    "ff, running_losses, val_losses, val_accuracies = train_ff(ff, dataset, criterion, optimizer, \n",
    "                                                          epochs=1000, \n",
    "                                                          return_best_weights=True, \n",
    "                                                          patients=5)"
   ]
  },
  {
   "cell_type": "code",
   "execution_count": 34,
   "metadata": {},
   "outputs": [
    {
     "name": "stderr",
     "output_type": "stream",
     "text": [
      "/tmp/ipykernel_21178/2956529926.py:83: UserWarning: indexing with dtype torch.uint8 is now deprecated, please use a dtype torch.bool instead. (Triggered internally at ../aten/src/ATen/native/IndexingUtils.h:27.)\n",
      "  out = model(dataset.data.x[dataset.data.test_mask])\n",
      "/tmp/ipykernel_21178/2956529926.py:84: UserWarning: indexing with dtype torch.uint8 is now deprecated, please use a dtype torch.bool instead. (Triggered internally at ../aten/src/ATen/native/IndexingUtils.h:27.)\n",
      "  test_loss = criterion(out, dataset.data.y[dataset.data.test_mask])\n",
      "/tmp/ipykernel_21178/2956529926.py:86: UserWarning: indexing with dtype torch.uint8 is now deprecated, please use a dtype torch.bool instead. (Triggered internally at ../aten/src/ATen/native/IndexingUtils.h:27.)\n",
      "  correct = pred == dataset.data.y[dataset.data.test_mask]  # Check against ground-truth labels.\n"
     ]
    },
    {
     "data": {
      "text/plain": [
       "(1.1894086599349976, 0.5831721470019342)"
      ]
     },
     "execution_count": 34,
     "metadata": {},
     "output_type": "execute_result"
    }
   ],
   "source": [
    "test_ff(ff, dataset, criterion)"
   ]
  },
  {
   "cell_type": "markdown",
   "metadata": {},
   "source": [
    "### Quantitative testing"
   ]
  },
  {
   "cell_type": "code",
   "execution_count": 37,
   "metadata": {},
   "outputs": [
    {
     "name": "stderr",
     "output_type": "stream",
     "text": [
      "/home/rick/Documents/ai-codex-public-code/.venv/lib/python3.12/site-packages/torch_geometric/data/in_memory_dataset.py:300: UserWarning: It is not recommended to directly access the internal storage format `data` of an 'InMemoryDataset'. If you are absolutely certain what you are doing, access the internal storage via `InMemoryDataset._data` instead to suppress this warning. Alternatively, you can access stacked individual attributes of every graph via `dataset.{attr_name}`.\n",
      "  warnings.warn(msg)\n",
      "/home/rick/Documents/ai-codex-public-code/.venv/lib/python3.12/site-packages/torch_geometric/data/in_memory_dataset.py:300: UserWarning: It is not recommended to directly access the internal storage format `data` of an 'InMemoryDataset'. If you are absolutely certain what you are doing, access the internal storage via `InMemoryDataset._data` instead to suppress this warning. Alternatively, you can access stacked individual attributes of every graph via `dataset.{attr_name}`.\n",
      "  warnings.warn(msg)\n",
      "/home/rick/Documents/ai-codex-public-code/.venv/lib/python3.12/site-packages/torch_geometric/data/in_memory_dataset.py:300: UserWarning: It is not recommended to directly access the internal storage format `data` of an 'InMemoryDataset'. If you are absolutely certain what you are doing, access the internal storage via `InMemoryDataset._data` instead to suppress this warning. Alternatively, you can access stacked individual attributes of every graph via `dataset.{attr_name}`.\n",
      "  warnings.warn(msg)\n"
     ]
    },
    {
     "name": "stdout",
     "output_type": "stream",
     "text": [
      "0\n"
     ]
    },
    {
     "name": "stderr",
     "output_type": "stream",
     "text": [
      "  0%|          | 0/30 [00:00<?, ?it/s]/tmp/ipykernel_21178/339971205.py:38: UserWarning: indexing with dtype torch.uint8 is now deprecated, please use a dtype torch.bool instead. (Triggered internally at ../aten/src/ATen/native/IndexingUtils.h:27.)\n",
      "  loss = criterion(out[dataset.data.train_mask], dataset.data.y[dataset.data.train_mask])\n",
      "/home/rick/Documents/ai-codex-public-code/.venv/lib/python3.12/site-packages/torch/autograd/graph.py:825: UserWarning: indexing with dtype torch.uint8 is now deprecated, please use a dtype torch.bool instead. (Triggered internally at ../aten/src/ATen/native/IndexingUtils.h:27.)\n",
      "  return Variable._execution_engine.run_backward(  # Calls into the C++ engine to run the backward pass\n",
      "/tmp/ipykernel_21178/339971205.py:52: UserWarning: indexing with dtype torch.uint8 is now deprecated, please use a dtype torch.bool instead. (Triggered internally at ../aten/src/ATen/native/IndexingUtils.h:27.)\n",
      "  val_loss = criterion(out[dataset.data.val_mask], dataset.data.y[dataset.data.val_mask])\n",
      "/tmp/ipykernel_21178/339971205.py:54: UserWarning: indexing with dtype torch.uint8 is now deprecated, please use a dtype torch.bool instead. (Triggered internally at ../aten/src/ATen/native/IndexingUtils.h:27.)\n",
      "  correct = pred[dataset.data.val_mask] == dataset.data.y[dataset.data.val_mask]  # Check against ground-truth labels.\n",
      "100%|██████████| 30/30 [00:00<00:00, 40.46it/s]\n",
      "/tmp/ipykernel_21178/339971205.py:80: UserWarning: indexing with dtype torch.uint8 is now deprecated, please use a dtype torch.bool instead. (Triggered internally at ../aten/src/ATen/native/IndexingUtils.h:27.)\n",
      "  test_loss = criterion(out[dataset.data.test_mask], dataset.data.y[dataset.data.test_mask])\n",
      "/tmp/ipykernel_21178/339971205.py:82: UserWarning: indexing with dtype torch.uint8 is now deprecated, please use a dtype torch.bool instead. (Triggered internally at ../aten/src/ATen/native/IndexingUtils.h:27.)\n",
      "  correct = pred[dataset.data.test_mask] == dataset.data.y[dataset.data.test_mask]  # Check against ground-truth labels.\n",
      "  0%|          | 0/30 [00:00<?, ?it/s]/tmp/ipykernel_21178/2956529926.py:40: UserWarning: indexing with dtype torch.uint8 is now deprecated, please use a dtype torch.bool instead. (Triggered internally at ../aten/src/ATen/native/IndexingUtils.h:27.)\n",
      "  out = model(dataset.data.x[dataset.data.train_mask])\n",
      "/tmp/ipykernel_21178/2956529926.py:42: UserWarning: indexing with dtype torch.uint8 is now deprecated, please use a dtype torch.bool instead. (Triggered internally at ../aten/src/ATen/native/IndexingUtils.h:27.)\n",
      "  loss = criterion(out, dataset.data.y[dataset.data.train_mask])\n",
      "/tmp/ipykernel_21178/2956529926.py:55: UserWarning: indexing with dtype torch.uint8 is now deprecated, please use a dtype torch.bool instead. (Triggered internally at ../aten/src/ATen/native/IndexingUtils.h:27.)\n",
      "  out = model(dataset.data.x[dataset.data.val_mask])\n",
      "/tmp/ipykernel_21178/2956529926.py:56: UserWarning: indexing with dtype torch.uint8 is now deprecated, please use a dtype torch.bool instead. (Triggered internally at ../aten/src/ATen/native/IndexingUtils.h:27.)\n",
      "  val_loss = criterion(out, dataset.data.y[dataset.data.val_mask])\n",
      "/tmp/ipykernel_21178/2956529926.py:58: UserWarning: indexing with dtype torch.uint8 is now deprecated, please use a dtype torch.bool instead. (Triggered internally at ../aten/src/ATen/native/IndexingUtils.h:27.)\n",
      "  correct = pred== dataset.data.y[dataset.data.val_mask]  # Check against ground-truth labels.\n",
      "100%|██████████| 30/30 [00:00<00:00, 380.10it/s]\n",
      "/tmp/ipykernel_21178/2956529926.py:83: UserWarning: indexing with dtype torch.uint8 is now deprecated, please use a dtype torch.bool instead. (Triggered internally at ../aten/src/ATen/native/IndexingUtils.h:27.)\n",
      "  out = model(dataset.data.x[dataset.data.test_mask])\n",
      "/tmp/ipykernel_21178/2956529926.py:84: UserWarning: indexing with dtype torch.uint8 is now deprecated, please use a dtype torch.bool instead. (Triggered internally at ../aten/src/ATen/native/IndexingUtils.h:27.)\n",
      "  test_loss = criterion(out, dataset.data.y[dataset.data.test_mask])\n",
      "/tmp/ipykernel_21178/2956529926.py:86: UserWarning: indexing with dtype torch.uint8 is now deprecated, please use a dtype torch.bool instead. (Triggered internally at ../aten/src/ATen/native/IndexingUtils.h:27.)\n",
      "  correct = pred == dataset.data.y[dataset.data.test_mask]  # Check against ground-truth labels.\n"
     ]
    },
    {
     "name": "stdout",
     "output_type": "stream",
     "text": [
      "1\n"
     ]
    },
    {
     "name": "stderr",
     "output_type": "stream",
     "text": [
      "100%|██████████| 30/30 [00:00<00:00, 42.14it/s]\n",
      "100%|██████████| 30/30 [00:00<00:00, 403.30it/s]\n"
     ]
    },
    {
     "name": "stdout",
     "output_type": "stream",
     "text": [
      "2\n"
     ]
    },
    {
     "name": "stderr",
     "output_type": "stream",
     "text": [
      "100%|██████████| 30/30 [00:00<00:00, 41.31it/s]\n",
      "100%|██████████| 30/30 [00:00<00:00, 401.46it/s]\n"
     ]
    },
    {
     "name": "stdout",
     "output_type": "stream",
     "text": [
      "3\n"
     ]
    },
    {
     "name": "stderr",
     "output_type": "stream",
     "text": [
      "100%|██████████| 30/30 [00:00<00:00, 43.59it/s]\n",
      "100%|██████████| 30/30 [00:00<00:00, 415.20it/s]\n"
     ]
    },
    {
     "name": "stdout",
     "output_type": "stream",
     "text": [
      "4\n"
     ]
    },
    {
     "name": "stderr",
     "output_type": "stream",
     "text": [
      "100%|██████████| 30/30 [00:00<00:00, 41.57it/s]\n",
      "100%|██████████| 30/30 [00:00<00:00, 386.67it/s]\n"
     ]
    },
    {
     "name": "stdout",
     "output_type": "stream",
     "text": [
      "5\n"
     ]
    },
    {
     "name": "stderr",
     "output_type": "stream",
     "text": [
      "100%|██████████| 30/30 [00:00<00:00, 43.23it/s]\n",
      "100%|██████████| 30/30 [00:00<00:00, 373.08it/s]\n"
     ]
    },
    {
     "name": "stdout",
     "output_type": "stream",
     "text": [
      "6\n"
     ]
    },
    {
     "name": "stderr",
     "output_type": "stream",
     "text": [
      "100%|██████████| 30/30 [00:00<00:00, 41.85it/s]\n",
      "100%|██████████| 30/30 [00:00<00:00, 390.19it/s]\n"
     ]
    },
    {
     "name": "stdout",
     "output_type": "stream",
     "text": [
      "7\n"
     ]
    },
    {
     "name": "stderr",
     "output_type": "stream",
     "text": [
      "100%|██████████| 30/30 [00:00<00:00, 42.87it/s]\n",
      "100%|██████████| 30/30 [00:00<00:00, 371.17it/s]\n"
     ]
    },
    {
     "name": "stdout",
     "output_type": "stream",
     "text": [
      "8\n"
     ]
    },
    {
     "name": "stderr",
     "output_type": "stream",
     "text": [
      "100%|██████████| 30/30 [00:00<00:00, 42.79it/s]\n",
      "100%|██████████| 30/30 [00:00<00:00, 370.18it/s]\n"
     ]
    },
    {
     "name": "stdout",
     "output_type": "stream",
     "text": [
      "9\n"
     ]
    },
    {
     "name": "stderr",
     "output_type": "stream",
     "text": [
      "100%|██████████| 30/30 [00:00<00:00, 43.45it/s]\n",
      "100%|██████████| 30/30 [00:00<00:00, 433.41it/s]\n"
     ]
    }
   ],
   "source": [
    "shuffle_data(dataset, train_size=140, val_size=500)\n",
    "results = []\n",
    "for i in range(10):\n",
    "    \n",
    "    print(i)\n",
    "\n",
    "    # Train GAT model\n",
    "    gat = GAT(dataset.num_features, dataset.num_classes, \n",
    "            hidden_dim=16, heads=12, dropout=0.3).to(device)\n",
    "\n",
    "    optimizer = optim.Adam(gat.parameters(), lr=0.005, weight_decay=5e-4)\n",
    "    criterion = nn.CrossEntropyLoss()\n",
    "\n",
    "    gat, running_losses, val_losses, val_accuracies = train_gnn(gat, dataset, criterion, optimizer, \n",
    "                                                                  epochs=30, \n",
    "                                                                  return_best_weights=True, \n",
    "                                                                  patients=None)\n",
    "    \n",
    "    _, test_accuracies = test_gnn(gat, dataset, criterion)\n",
    "\n",
    "    results.append({'model': 'GAT', 'accuracy': test_accuracies, 'split': i})\n",
    "\n",
    "    # Train FF model\n",
    "    ff = FF(dataset.num_features, dataset.num_classes, \n",
    "            hidden_dim=64, dropout=0.3).to(device)\n",
    "\n",
    "    optimizer = optim.Adam(ff.parameters(), lr=0.005, weight_decay=5e-4)\n",
    "    criterion = nn.CrossEntropyLoss()\n",
    "\n",
    "    ff, running_losses, val_losses, val_accuracies = train_ff(ff, dataset, criterion, optimizer, \n",
    "                                                                  epochs=30, \n",
    "                                                                  return_best_weights=True, \n",
    "                                                                  patients=None)\n",
    "    \n",
    "    _, test_accuracies = test_ff(ff, dataset, criterion)\n",
    "\n",
    "    results.append({'model': 'Deep FF 2', 'accuracy': test_accuracies, 'split': i})\n",
    "\n",
    "    "
   ]
  },
  {
   "cell_type": "code",
   "execution_count": 38,
   "metadata": {},
   "outputs": [
    {
     "data": {
      "text/plain": [
       "<Axes: xlabel='model', ylabel='accuracy'>"
      ]
     },
     "execution_count": 38,
     "metadata": {},
     "output_type": "execute_result"
    },
    {
     "data": {
      "image/png": "[encoded data removed]",
      "text/plain": [
       "<Figure size 1000x500 with 1 Axes>"
      ]
     },
     "metadata": {},
     "output_type": "display_data"
    }
   ],
   "source": [
    "# plot boxplot with sns\n",
    "plt.figure(figsize=(10, 5))\n",
    "df = pd.DataFrame(results)\n",
    "sns.boxplot(x='model', y='accuracy', data=df)"
   ]
  },
  {
   "cell_type": "code",
   "execution_count": null,
   "metadata": {},
   "outputs": [],
   "source": []
  }
 ],
 "metadata": {
  "kernelspec": {
   "display_name": ".venv",
   "language": "python",
   "name": "python3"
  },
  "language_info": {
   "codemirror_mode": {
    "name": "ipython",
    "version": 3
   },
   "file_extension": ".py",
   "mimetype": "text/x-python",
   "name": "python",
   "nbconvert_exporter": "python",
   "pygments_lexer": "ipython3",
   "version": "3.12.3"
  }
 },
 "nbformat": 4,
 "nbformat_minor": 2
}
